{
  "nbformat": 4,
  "nbformat_minor": 0,
  "metadata": {
    "colab": {
      "provenance": [],
      "include_colab_link": true
    },
    "kernelspec": {
      "name": "python3",
      "display_name": "Python 3"
    },
    "accelerator": "GPU",
    "gpuClass": "standard"
  },
  "cells": [
    {
      "cell_type": "markdown",
      "metadata": {
        "id": "view-in-github",
        "colab_type": "text"
      },
      "source": [
        "<a href=\"https://colab.research.google.com/github/rohdimp24/EVA8/blob/master/EVA4_Session_2_Rohit_Solution.ipynb\" target=\"_parent\"><img src=\"https://colab.research.google.com/assets/colab-badge.svg\" alt=\"Open In Colab\"/></a>"
      ]
    },
    {
      "cell_type": "code",
      "metadata": {
        "id": "0m2JWFliFfKT"
      },
      "source": [
        "from __future__ import print_function\n",
        "## importing pytroch\n",
        "import torch\n",
        "## the neural network layer is provided by pytorch.nn\n",
        "import torch.nn as nn\n",
        "## for activation functions we use functional layer \n",
        "import torch.nn.functional as F\n",
        "## provides optimizer like adam, SGD\n",
        "import torch.optim as optim\n",
        "## this is to fetch the MNIST data set and also to apply some transformations\n",
        "from torchvision import datasets, transforms"
      ],
      "execution_count": 43,
      "outputs": []
    },
    {
      "cell_type": "code",
      "metadata": {
        "id": "h_Cx9q2QFgM7"
      },
      "source": [
        "## this class defines the neural network.\n",
        "## esentially it has the definition of the layers, kernel sizes and the forward pass\n",
        "class Net(nn.Module):\n",
        "    def __init__(self):\n",
        "        super(Net, self).__init__()\n",
        "        self.conv1 = nn.Conv2d(1, 32, 3, padding=1)         # input - 1x28x28    | output - 32x28x28     | RF - 3x3  \n",
        "        self.conv2 = nn.Conv2d(32, 64, 3, padding=1)        # input - 32x28x28   | output - 64x28x28     | RF - 5x5  \n",
        "        self.pool1 = nn.MaxPool2d(2, 2)                     # input - 64x28x28   | output - 64x14x14     | RF - 10x10  \n",
        "        self.conv3 = nn.Conv2d(64, 128, 3, padding=1)       # input - 64x14x14   | output - 128x14x14    | RF - 12x12  \n",
        "        self.conv4 = nn.Conv2d(128, 256, 3, padding=1)      # input - 128x14x14  | output - 256x14x14    | RF - 14x14  \n",
        "        self.pool2 = nn.MaxPool2d(2, 2)                     # input - 256x14x14  | output - 256x7x7      | RF - 28x28  \n",
        "        self.conv5 = nn.Conv2d(256, 512, 3)                 # input - 256x7x7    | output - 512x5x5      | RF - 30x30  \n",
        "        self.conv6 = nn.Conv2d(512, 1024, 3)                # input - 512x5x5    | output - 1024x3x3     | RF - 32x32  \n",
        "        self.conv7 = nn.Conv2d(1024, 10, 3)                 # input - 1024x3x3   | output - 10x1x1       | RF - 34x34  \n",
        "\n",
        "    def forward(self, x):\n",
        "        ## if there is padding the size will remain the same after convolution operation\n",
        "        ## SIZE: image(x) (CONV1)-> 28x28  (CONV2)-> 28x28  (MAXPOOL)->14x14 \n",
        "        ## RF: image(x) (CONV1)-> 3x3  (CONV2)-> 5x5  (MAXPOOL)->10x10 \n",
        "        x = self.pool1(F.relu(self.conv2(F.relu(self.conv1(x)))))\n",
        "\n",
        "        ##SIZE: (CONV3)->14x14 (CONV4)->14x14  (MAXPOOL)->7x7  \n",
        "        ##RF: (CONV3)->12x12 (CONV4)->14x14  (MAXPOOL)->28x28  \n",
        "        x = self.pool2(F.relu(self.conv4(F.relu(self.conv3(x)))))\n",
        "        \n",
        "        ##SIZE: (CONV5)->5x5 (CONV6)-> 3x3\n",
        "        ##RF: (CONV5)->30x30 (CONV6)-> 32x32\n",
        "        x = F.relu(self.conv6(F.relu(self.conv5(x))))\n",
        "\n",
        "        ##SIZE: (CONV7)->1x1\n",
        "        ## RF: 34x34\n",
        "        #x = F.relu(self.conv7(x))... cant have a activation function in the last layer as it will remove -ve gradients\n",
        "        x = F.tanh(self.conv7(x)) \n",
        "        ## or we can even say \n",
        "        ## x=self.conv7(x)\n",
        "        ## this will remove the extra dimantions [128,10,1,1] --> [128,10]\n",
        "        x = x.view(-1, 10)\n",
        "        ## softmax for probability\n",
        "        return F.log_softmax(x)"
      ],
      "execution_count": 44,
      "outputs": []
    },
    {
      "cell_type": "code",
      "metadata": {
        "id": "xdydjYTZFyi3",
        "colab": {
          "base_uri": "https://localhost:8080/"
        },
        "outputId": "c4a0f5e8-5622-4a9a-c470-1ad137c8f9d7"
      },
      "source": [
        "#!pip install torchsummary\n",
        "from torchsummary import summary\n",
        "## check for the GPU\n",
        "use_cuda = torch.cuda.is_available()\n",
        "device = torch.device(\"cuda\" if use_cuda else \"cpu\")\n",
        "## this will send the model to the chosen device\n",
        "model = Net().to(device)\n",
        "## prints the architecture\n",
        "summary(model, input_size=(1, 28, 28))"
      ],
      "execution_count": 45,
      "outputs": [
        {
          "output_type": "stream",
          "name": "stdout",
          "text": [
            "----------------------------------------------------------------\n",
            "        Layer (type)               Output Shape         Param #\n",
            "================================================================\n",
            "            Conv2d-1           [-1, 32, 28, 28]             320\n",
            "            Conv2d-2           [-1, 64, 28, 28]          18,496\n",
            "         MaxPool2d-3           [-1, 64, 14, 14]               0\n",
            "            Conv2d-4          [-1, 128, 14, 14]          73,856\n",
            "            Conv2d-5          [-1, 256, 14, 14]         295,168\n",
            "         MaxPool2d-6            [-1, 256, 7, 7]               0\n",
            "            Conv2d-7            [-1, 512, 5, 5]       1,180,160\n",
            "            Conv2d-8           [-1, 1024, 3, 3]       4,719,616\n",
            "            Conv2d-9             [-1, 10, 1, 1]          92,170\n",
            "================================================================\n",
            "Total params: 6,379,786\n",
            "Trainable params: 6,379,786\n",
            "Non-trainable params: 0\n",
            "----------------------------------------------------------------\n",
            "Input size (MB): 0.00\n",
            "Forward/backward pass size (MB): 1.51\n",
            "Params size (MB): 24.34\n",
            "Estimated Total Size (MB): 25.85\n",
            "----------------------------------------------------------------\n"
          ]
        },
        {
          "output_type": "stream",
          "name": "stderr",
          "text": [
            "<ipython-input-44-dd059e5dfda0>:39: UserWarning: Implicit dimension choice for log_softmax has been deprecated. Change the call to include dim=X as an argument.\n",
            "  return F.log_softmax(x)\n"
          ]
        }
      ]
    },
    {
      "cell_type": "code",
      "metadata": {
        "id": "DqTWLaM5GHgH"
      },
      "source": [
        "\n",
        "\n",
        "torch.manual_seed(1)\n",
        "## 128 images will be processed at a time.. there will be multiple batches of 128 imgaes rill all the images have been read\n",
        "batch_size = 128\n",
        "\n",
        "## the pin_memory is some GPU memory management\n",
        "kwargs = {'num_workers': 1, 'pin_memory': True} if use_cuda else {}\n",
        "\n",
        "## reading the MNIST data set and normalizging it\n",
        "##https://discuss.pytorch.org/t/normalization-in-the-mnist-example/457\n",
        "## created a train & test data loader that is a standard way of provodong the data to the model in pytorch\n",
        "## we can additionally perform some transformations to the data before actually passing the data which is done using the transforms\n",
        "train_loader = torch.utils.data.DataLoader(\n",
        "    datasets.MNIST('../data', train=True, download=True,\n",
        "                    transform=transforms.Compose([\n",
        "                        transforms.ToTensor(),\n",
        "                        transforms.Normalize((0.1307,), (0.3081,))\n",
        "                    ])),\n",
        "    batch_size=batch_size, shuffle=True, **kwargs)\n",
        "test_loader = torch.utils.data.DataLoader(\n",
        "    datasets.MNIST('../data', train=False, transform=transforms.Compose([\n",
        "                        transforms.ToTensor(),\n",
        "                        transforms.Normalize((0.1307,), (0.3081,))\n",
        "                    ])),\n",
        "    batch_size=batch_size, shuffle=True, **kwargs)\n"
      ],
      "execution_count": 46,
      "outputs": []
    },
    {
      "cell_type": "code",
      "metadata": {
        "id": "8fDefDhaFlwH"
      },
      "source": [
        "from tqdm import tqdm\n",
        "def train(model, device, train_loader, optimizer, epoch):\n",
        "    model.train()\n",
        "    ## this will show the progress\n",
        "    pbar = tqdm(train_loader)\n",
        "    #loss=0\n",
        "    ## read each batch that will have 128 images and 128 labels\n",
        "    ## this is a standard training loop in pytorch\n",
        "    #optimizer.zero_grad()\n",
        "    for batch_idx, (data, target) in enumerate(pbar):\n",
        "        ## move the data and the target to the same device as the model\n",
        "        data, target = data.to(device), target.to(device)\n",
        "        ## clears old gradients from the last step (otherwise you’d just accumulate the gradients from all loss.backward() calls) \n",
        "        optimizer.zero_grad()\n",
        "        ## forward pass with the batch of the data\n",
        "        output = model(data)\n",
        "        ## calculate the loss for this batch\n",
        "        loss = F.nll_loss(output, target)\n",
        "        ## computes the derivative of the loss w.r.t. the parameters (or anything requiring gradients) using backpropagation.\n",
        "        loss.backward()\n",
        "        ## causes the optimizer to take a step based on the gradients of the parameters\n",
        "        optimizer.step()\n",
        "        ## show the loss for this batch\n",
        "        pbar.set_description(desc= f'loss={loss.item()} batch_id={batch_idx}')\n",
        "        ##print(\"loss after the batch\",f'loss={loss.item()} batch_id={batch_idx}' )\n",
        "        ## why are we not adding up the training loss just like in the test??\n",
        "\n",
        "\n",
        "def test(model, device, test_loader):\n",
        "    ## we are using the model in evaluation mode...meaning there will be no trainign\n",
        "    model.eval()\n",
        "    test_loss = 0\n",
        "    correct = 0\n",
        "    ## no gradient calculation will happen\n",
        "    with torch.no_grad():\n",
        "        for data, target in test_loader:\n",
        "            ## mode the data to the same device as the model\n",
        "            data, target = data.to(device), target.to(device)\n",
        "            ## get the result of the model\n",
        "            output = model(data)\n",
        "            ## calulate the nll loss ..this is the testing loss\n",
        "            test_loss += F.nll_loss(output, target, reduction='sum').item()  # sum up batch loss\n",
        "            ## using the argmax to find out which is the most probable class (number) identified\n",
        "            pred = output.argmax(dim=1, keepdim=True)  # get the index of the max log-probability\n",
        "            ## check predictions with the ground truth\n",
        "            correct += pred.eq(target.view_as(pred)).sum().item()\n",
        "    ##normalize the test loss by the size of the dataset\n",
        "    test_loss /= len(test_loader.dataset)\n",
        "\n",
        "    print('\\nTest set: Average loss: {:.4f}, Accuracy: {}/{} ({:.0f}%)\\n'.format(\n",
        "        test_loss, correct, len(test_loader.dataset),\n",
        "        100. * correct / len(test_loader.dataset)))"
      ],
      "execution_count": 47,
      "outputs": []
    },
    {
      "cell_type": "code",
      "metadata": {
        "id": "MMWbLWO6FuHb",
        "colab": {
          "base_uri": "https://localhost:8080/"
        },
        "outputId": "87a47f71-16c4-40f8-eedc-5826bdc16e7c"
      },
      "source": [
        "## sending the architure to the device (cpu or gpu)\n",
        "model = Net().to(device)\n",
        "## using the SGD optimizer with the learning rate of 0.01 \n",
        "optimizer = optim.SGD(model.parameters(), lr=0.01, momentum=0.9)\n",
        "## number of epochs can be controlled here\n",
        "for epoch in range(1, 2):\n",
        "    train(model, device, train_loader, optimizer, epoch)\n",
        "    ## we dont need any optimizer and epoch for the testing phase\n",
        "    test(model, device, test_loader)"
      ],
      "execution_count": 48,
      "outputs": [
        {
          "output_type": "stream",
          "name": "stderr",
          "text": [
            "\r  0%|          | 0/469 [00:00<?, ?it/s]<ipython-input-44-dd059e5dfda0>:39: UserWarning: Implicit dimension choice for log_softmax has been deprecated. Change the call to include dim=X as an argument.\n",
            "  return F.log_softmax(x)\n",
            "loss=0.862337052822113 batch_id=468: 100%|██████████| 469/469 [00:16<00:00, 27.75it/s]\n"
          ]
        },
        {
          "output_type": "stream",
          "name": "stdout",
          "text": [
            "\n",
            "Test set: Average loss: 0.8698, Accuracy: 9622/10000 (96%)\n",
            "\n"
          ]
        }
      ]
    }
  ]
}